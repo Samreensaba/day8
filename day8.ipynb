{
 "cells": [
  {
   "cell_type": "code",
   "execution_count": 2,
   "id": "29b4332e-7622-4605-863f-ed08368cc283",
   "metadata": {},
   "outputs": [
    {
     "name": "stdout",
     "output_type": "stream",
     "text": [
      "AFFIRMATIONS GENERATING MACHINE\n",
      "\n",
      "Greeting of the day! I am your affirmations generator, will ask you a few questions and then generate an affirmation for you!\n"
     ]
    },
    {
     "name": "stdin",
     "output_type": "stream",
     "text": [
      "What is your name? Hajera\n",
      "What is the current day of week? Tuesday\n",
      "What is your favourite food? fried chicken\n"
     ]
    },
    {
     "name": "stdout",
     "output_type": "stream",
     "text": [
      "What a lovely  Tuesday  it is!  Hajera  you are amazing, wonderful and beautifully made. Today's oppourtunities are waiting for you eat  fried chicken  and grab them.\n"
     ]
    }
   ],
   "source": [
    "print(\"AFFIRMATIONS GENERATING MACHINE\")\n",
    "print()\n",
    "print(\"Greeting of the day! I am your affirmations generator, will ask you a few questions and then generate an affirmation for you!\")\n",
    "name = input(\"What is your name?\")\n",
    "day = input(\"What is the current day of week?\")\n",
    "favFood = input(\"What is your favourite food?\")\n",
    "if day == \"monday\" or day == \"Monday\":\n",
    "  print(\"Good Morning! \", name, \" today is going to be incredible and there is no limits to what you can achive! Eat \", favFood, \" and start your day with a smile!\")\n",
    "elif day == \"tuesday\" or day == \"Tuesday\" or day == \"friday\" or day == \"Friday\":\n",
    "  print(\"What a lovely \", day, \" it is! \", name, \" you are amazing, wonderful and beautifully made. Today's oppourtunities are waiting for you eat \", favFood, \" and grab them.\")\n",
    "elif day == \"wednesday\" or day == \"Wednesday\":\n",
    "  print(\"Hi \", name, \" do what need to do in order to ger where you want to be. The universe is going to support you and you are going to be amazing. Eat \", favFood, \" and enjoy your day!\")\n",
    "elif day == \"thursday\" or day == \"Thursday\":\n",
    "  print(\"Hello \", name, \" you are amazing and you are going to do amazing things. Imagine yourself as sky and everything else as weather. Dont forget to eat \", favFood, \" .\")\n",
    "else:\n",
    "  print(\"Happy weekend \", name, \" take a good rest and restart your new week with lots of energy and enthusiasm. Enjoy your favourite meal \", favFood, \" and take a break.\")"
   ]
  },
  {
   "cell_type": "code",
   "execution_count": null,
   "id": "12af0b7c-9494-4c98-a112-7683f3a4623c",
   "metadata": {},
   "outputs": [],
   "source": []
  }
 ],
 "metadata": {
  "kernelspec": {
   "display_name": "Python 3 (ipykernel)",
   "language": "python",
   "name": "python3"
  },
  "language_info": {
   "codemirror_mode": {
    "name": "ipython",
    "version": 3
   },
   "file_extension": ".py",
   "mimetype": "text/x-python",
   "name": "python",
   "nbconvert_exporter": "python",
   "pygments_lexer": "ipython3",
   "version": "3.12.4"
  }
 },
 "nbformat": 4,
 "nbformat_minor": 5
}
